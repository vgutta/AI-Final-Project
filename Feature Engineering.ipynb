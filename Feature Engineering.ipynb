{
 "cells": [
  {
   "cell_type": "code",
   "execution_count": 2,
   "metadata": {},
   "outputs": [],
   "source": [
    "import pandas as pd\n",
    "import numpy as np\n",
    "from datetime import date\n",
    "import matplotlib.pyplot as plt"
   ]
  },
  {
   "cell_type": "code",
   "execution_count": 58,
   "metadata": {},
   "outputs": [],
   "source": [
    "tornado_df = pd.read_csv('./1950-2018_torn.csv',parse_dates=['date'])"
   ]
  },
  {
   "cell_type": "code",
   "execution_count": 59,
   "metadata": {},
   "outputs": [
    {
     "data": {
      "text/html": [
       "<div>\n",
       "<style scoped>\n",
       "    .dataframe tbody tr th:only-of-type {\n",
       "        vertical-align: middle;\n",
       "    }\n",
       "\n",
       "    .dataframe tbody tr th {\n",
       "        vertical-align: top;\n",
       "    }\n",
       "\n",
       "    .dataframe thead th {\n",
       "        text-align: right;\n",
       "    }\n",
       "</style>\n",
       "<table border=\"1\" class=\"dataframe\">\n",
       "  <thead>\n",
       "    <tr style=\"text-align: right;\">\n",
       "      <th></th>\n",
       "      <th>om</th>\n",
       "      <th>yr</th>\n",
       "      <th>mo</th>\n",
       "      <th>dy</th>\n",
       "      <th>date</th>\n",
       "      <th>time</th>\n",
       "      <th>tz</th>\n",
       "      <th>st</th>\n",
       "      <th>stf</th>\n",
       "      <th>stn</th>\n",
       "      <th>...</th>\n",
       "      <th>len</th>\n",
       "      <th>wid</th>\n",
       "      <th>ns</th>\n",
       "      <th>sn</th>\n",
       "      <th>sg</th>\n",
       "      <th>f1</th>\n",
       "      <th>f2</th>\n",
       "      <th>f3</th>\n",
       "      <th>f4</th>\n",
       "      <th>fc</th>\n",
       "    </tr>\n",
       "  </thead>\n",
       "  <tbody>\n",
       "    <tr>\n",
       "      <th>0</th>\n",
       "      <td>1</td>\n",
       "      <td>1950</td>\n",
       "      <td>1</td>\n",
       "      <td>3</td>\n",
       "      <td>1950-01-03</td>\n",
       "      <td>11:00:00</td>\n",
       "      <td>3</td>\n",
       "      <td>MO</td>\n",
       "      <td>29</td>\n",
       "      <td>1</td>\n",
       "      <td>...</td>\n",
       "      <td>9.5</td>\n",
       "      <td>150</td>\n",
       "      <td>2</td>\n",
       "      <td>0</td>\n",
       "      <td>1</td>\n",
       "      <td>0</td>\n",
       "      <td>0</td>\n",
       "      <td>0</td>\n",
       "      <td>0</td>\n",
       "      <td>0</td>\n",
       "    </tr>\n",
       "    <tr>\n",
       "      <th>1</th>\n",
       "      <td>1</td>\n",
       "      <td>1950</td>\n",
       "      <td>1</td>\n",
       "      <td>3</td>\n",
       "      <td>1950-01-03</td>\n",
       "      <td>11:00:00</td>\n",
       "      <td>3</td>\n",
       "      <td>MO</td>\n",
       "      <td>29</td>\n",
       "      <td>1</td>\n",
       "      <td>...</td>\n",
       "      <td>6.2</td>\n",
       "      <td>150</td>\n",
       "      <td>2</td>\n",
       "      <td>1</td>\n",
       "      <td>2</td>\n",
       "      <td>189</td>\n",
       "      <td>0</td>\n",
       "      <td>0</td>\n",
       "      <td>0</td>\n",
       "      <td>0</td>\n",
       "    </tr>\n",
       "    <tr>\n",
       "      <th>2</th>\n",
       "      <td>1</td>\n",
       "      <td>1950</td>\n",
       "      <td>1</td>\n",
       "      <td>3</td>\n",
       "      <td>1950-01-03</td>\n",
       "      <td>11:10:00</td>\n",
       "      <td>3</td>\n",
       "      <td>IL</td>\n",
       "      <td>17</td>\n",
       "      <td>1</td>\n",
       "      <td>...</td>\n",
       "      <td>3.3</td>\n",
       "      <td>100</td>\n",
       "      <td>2</td>\n",
       "      <td>1</td>\n",
       "      <td>2</td>\n",
       "      <td>119</td>\n",
       "      <td>0</td>\n",
       "      <td>0</td>\n",
       "      <td>0</td>\n",
       "      <td>0</td>\n",
       "    </tr>\n",
       "    <tr>\n",
       "      <th>3</th>\n",
       "      <td>2</td>\n",
       "      <td>1950</td>\n",
       "      <td>1</td>\n",
       "      <td>3</td>\n",
       "      <td>1950-01-03</td>\n",
       "      <td>11:55:00</td>\n",
       "      <td>3</td>\n",
       "      <td>IL</td>\n",
       "      <td>17</td>\n",
       "      <td>2</td>\n",
       "      <td>...</td>\n",
       "      <td>3.6</td>\n",
       "      <td>130</td>\n",
       "      <td>1</td>\n",
       "      <td>1</td>\n",
       "      <td>1</td>\n",
       "      <td>135</td>\n",
       "      <td>0</td>\n",
       "      <td>0</td>\n",
       "      <td>0</td>\n",
       "      <td>0</td>\n",
       "    </tr>\n",
       "    <tr>\n",
       "      <th>4</th>\n",
       "      <td>3</td>\n",
       "      <td>1950</td>\n",
       "      <td>1</td>\n",
       "      <td>3</td>\n",
       "      <td>1950-01-03</td>\n",
       "      <td>16:00:00</td>\n",
       "      <td>3</td>\n",
       "      <td>OH</td>\n",
       "      <td>39</td>\n",
       "      <td>1</td>\n",
       "      <td>...</td>\n",
       "      <td>0.1</td>\n",
       "      <td>10</td>\n",
       "      <td>1</td>\n",
       "      <td>1</td>\n",
       "      <td>1</td>\n",
       "      <td>161</td>\n",
       "      <td>0</td>\n",
       "      <td>0</td>\n",
       "      <td>0</td>\n",
       "      <td>0</td>\n",
       "    </tr>\n",
       "  </tbody>\n",
       "</table>\n",
       "<p>5 rows × 29 columns</p>\n",
       "</div>"
      ],
      "text/plain": [
       "   om    yr  mo  dy       date      time  tz  st  stf  stn  ...  len  wid  ns  \\\n",
       "0   1  1950   1   3 1950-01-03  11:00:00   3  MO   29    1  ...  9.5  150   2   \n",
       "1   1  1950   1   3 1950-01-03  11:00:00   3  MO   29    1  ...  6.2  150   2   \n",
       "2   1  1950   1   3 1950-01-03  11:10:00   3  IL   17    1  ...  3.3  100   2   \n",
       "3   2  1950   1   3 1950-01-03  11:55:00   3  IL   17    2  ...  3.6  130   1   \n",
       "4   3  1950   1   3 1950-01-03  16:00:00   3  OH   39    1  ...  0.1   10   1   \n",
       "\n",
       "   sn  sg   f1  f2  f3  f4  fc  \n",
       "0   0   1    0   0   0   0   0  \n",
       "1   1   2  189   0   0   0   0  \n",
       "2   1   2  119   0   0   0   0  \n",
       "3   1   1  135   0   0   0   0  \n",
       "4   1   1  161   0   0   0   0  \n",
       "\n",
       "[5 rows x 29 columns]"
      ]
     },
     "execution_count": 59,
     "metadata": {},
     "output_type": "execute_result"
    }
   ],
   "source": [
    "tornado_df.head()"
   ]
  },
  {
   "cell_type": "code",
   "execution_count": 64,
   "metadata": {},
   "outputs": [
    {
     "data": {
      "text/plain": [
       "om                int64\n",
       "yr                int64\n",
       "mo                int64\n",
       "dy                int64\n",
       "date     datetime64[ns]\n",
       "time             object\n",
       "tz                int64\n",
       "st               object\n",
       "stf               int64\n",
       "stn               int64\n",
       "mag               int64\n",
       "inj               int64\n",
       "fat               int64\n",
       "loss            float64\n",
       "closs           float64\n",
       "slat            float64\n",
       "slon            float64\n",
       "elat            float64\n",
       "elon            float64\n",
       "len             float64\n",
       "wid               int64\n",
       "ns                int64\n",
       "sn                int64\n",
       "sg                int64\n",
       "f1                int64\n",
       "f2                int64\n",
       "f3                int64\n",
       "f4                int64\n",
       "fc                int64\n",
       "dtype: object"
      ]
     },
     "execution_count": 64,
     "metadata": {},
     "output_type": "execute_result"
    }
   ],
   "source": [
    "tornado_df.dtypes"
   ]
  },
  {
   "cell_type": "markdown",
   "metadata": {},
   "source": [
    "- om = count of tornadoes during the year, \n",
    "- yr = year, \n",
    "- mo = month, \n",
    "- dy = day, \n",
    "- date = ,\n",
    "- time = ,\n",
    "- tz = timezone, \n",
    "- st = state, \n",
    "- stf = state FIPS number\n",
    "- stn = state number - number of this tornado\n",
    "- mag = F-scale, EF scale after January 2007\n",
    "- inj = injuries, \n",
    "- fat = fatalities, \n",
    "- loss = estimated property loss, \n",
    "- closs = estimated crop loss, \n",
    "- len = length in miles, \n",
    "- wid = width in yards, \n",
    "- ns = number of states affected by this tornado,\n",
    "- sn = state number (1 = entire track info in this state)\n",
    "- sg = tornado segment number(1 (entire track info),2, or -9)\n",
    "- f1-f4 = county FIPS number\n",
    "- fc = indicate if (E)F scales was altered (1=previous rating was -9 unknown)"
   ]
  },
  {
   "cell_type": "code",
   "execution_count": 61,
   "metadata": {},
   "outputs": [
    {
     "data": {
      "text/plain": [
       "array([[<matplotlib.axes._subplots.AxesSubplot object at 0x000002557C0EF1D0>]],\n",
       "      dtype=object)"
      ]
     },
     "execution_count": 61,
     "metadata": {},
     "output_type": "execute_result"
    },
    {
     "data": {
      "image/png": "[encoded data removed]",
      "text/plain": [
       "<Figure size 432x288 with 1 Axes>"
      ]
     },
     "metadata": {
      "needs_background": "light"
     },
     "output_type": "display_data"
    }
   ],
   "source": [
    "tornado_df.hist(column='yr')"
   ]
  },
  {
   "cell_type": "code",
   "execution_count": 68,
   "metadata": {},
   "outputs": [
    {
     "data": {
      "text/plain": [
       "<matplotlib.axes._subplots.AxesSubplot at 0x2557c2d5978>"
      ]
     },
     "execution_count": 68,
     "metadata": {},
     "output_type": "execute_result"
    },
    {
     "data": {
      "image/png": "[encoded data removed]",
      "text/plain": [
       "<Figure size 432x288 with 1 Axes>"
      ]
     },
     "metadata": {
      "needs_background": "light"
     },
     "output_type": "display_data"
    }
   ],
   "source": [
    "tornado_df[\"st\"].value_counts().plot(kind=\"bar\")"
   ]
  },
  {
   "cell_type": "code",
   "execution_count": 73,
   "metadata": {},
   "outputs": [
    {
     "data": {
      "text/plain": [
       "<matplotlib.axes._subplots.AxesSubplot at 0x2557c78d2b0>"
      ]
     },
     "execution_count": 73,
     "metadata": {},
     "output_type": "execute_result"
    },
    {
     "data": {
      "image/png": "[encoded data removed]",
      "text/plain": [
       "<Figure size 432x288 with 1 Axes>"
      ]
     },
     "metadata": {
      "needs_background": "light"
     },
     "output_type": "display_data"
    }
   ],
   "source": [
    "tornado_df[\"fc\"].value_counts().plot(kind=\"bar\")"
   ]
  },
  {
   "cell_type": "code",
   "execution_count": 63,
   "metadata": {},
   "outputs": [
    {
     "data": {
      "text/plain": [
       "64825"
      ]
     },
     "execution_count": 63,
     "metadata": {},
     "output_type": "execute_result"
    }
   ],
   "source": [
    "len(tornado_df)"
   ]
  },
  {
   "cell_type": "code",
   "execution_count": 65,
   "metadata": {},
   "outputs": [
    {
     "data": {
      "text/plain": [
       "64825"
      ]
     },
     "execution_count": 65,
     "metadata": {},
     "output_type": "execute_result"
    }
   ],
   "source": [
    "import math\n",
    "rday = []\n",
    "for index in tornado_df.index:\n",
    "#     print(tornado_df[\"date\"][index])\n",
    "#     print(tornado_df[\"date\"][index].timetuple().tm_yday)\n",
    "    day_of_year = tornado_df[\"date\"][index].timetuple().tm_yday\n",
    "    rday.append(day_of_year/365 * 2 * math.pi)\n",
    "len(rday)"
   ]
  },
  {
   "cell_type": "code",
   "execution_count": 66,
   "metadata": {},
   "outputs": [
    {
     "data": {
      "text/html": [
       "<div>\n",
       "<style scoped>\n",
       "    .dataframe tbody tr th:only-of-type {\n",
       "        vertical-align: middle;\n",
       "    }\n",
       "\n",
       "    .dataframe tbody tr th {\n",
       "        vertical-align: top;\n",
       "    }\n",
       "\n",
       "    .dataframe thead th {\n",
       "        text-align: right;\n",
       "    }\n",
       "</style>\n",
       "<table border=\"1\" class=\"dataframe\">\n",
       "  <thead>\n",
       "    <tr style=\"text-align: right;\">\n",
       "      <th></th>\n",
       "      <th>om</th>\n",
       "      <th>yr</th>\n",
       "      <th>mo</th>\n",
       "      <th>dy</th>\n",
       "      <th>date</th>\n",
       "      <th>time</th>\n",
       "      <th>tz</th>\n",
       "      <th>st</th>\n",
       "      <th>stf</th>\n",
       "      <th>stn</th>\n",
       "      <th>...</th>\n",
       "      <th>wid</th>\n",
       "      <th>ns</th>\n",
       "      <th>sn</th>\n",
       "      <th>sg</th>\n",
       "      <th>f1</th>\n",
       "      <th>f2</th>\n",
       "      <th>f3</th>\n",
       "      <th>f4</th>\n",
       "      <th>fc</th>\n",
       "      <th>rday</th>\n",
       "    </tr>\n",
       "  </thead>\n",
       "  <tbody>\n",
       "    <tr>\n",
       "      <th>0</th>\n",
       "      <td>1</td>\n",
       "      <td>1950</td>\n",
       "      <td>1</td>\n",
       "      <td>3</td>\n",
       "      <td>1950-01-03</td>\n",
       "      <td>11:00:00</td>\n",
       "      <td>3</td>\n",
       "      <td>MO</td>\n",
       "      <td>29</td>\n",
       "      <td>1</td>\n",
       "      <td>...</td>\n",
       "      <td>150</td>\n",
       "      <td>2</td>\n",
       "      <td>0</td>\n",
       "      <td>1</td>\n",
       "      <td>0</td>\n",
       "      <td>0</td>\n",
       "      <td>0</td>\n",
       "      <td>0</td>\n",
       "      <td>0</td>\n",
       "      <td>0.051643</td>\n",
       "    </tr>\n",
       "    <tr>\n",
       "      <th>1</th>\n",
       "      <td>1</td>\n",
       "      <td>1950</td>\n",
       "      <td>1</td>\n",
       "      <td>3</td>\n",
       "      <td>1950-01-03</td>\n",
       "      <td>11:00:00</td>\n",
       "      <td>3</td>\n",
       "      <td>MO</td>\n",
       "      <td>29</td>\n",
       "      <td>1</td>\n",
       "      <td>...</td>\n",
       "      <td>150</td>\n",
       "      <td>2</td>\n",
       "      <td>1</td>\n",
       "      <td>2</td>\n",
       "      <td>189</td>\n",
       "      <td>0</td>\n",
       "      <td>0</td>\n",
       "      <td>0</td>\n",
       "      <td>0</td>\n",
       "      <td>0.051643</td>\n",
       "    </tr>\n",
       "    <tr>\n",
       "      <th>2</th>\n",
       "      <td>1</td>\n",
       "      <td>1950</td>\n",
       "      <td>1</td>\n",
       "      <td>3</td>\n",
       "      <td>1950-01-03</td>\n",
       "      <td>11:10:00</td>\n",
       "      <td>3</td>\n",
       "      <td>IL</td>\n",
       "      <td>17</td>\n",
       "      <td>1</td>\n",
       "      <td>...</td>\n",
       "      <td>100</td>\n",
       "      <td>2</td>\n",
       "      <td>1</td>\n",
       "      <td>2</td>\n",
       "      <td>119</td>\n",
       "      <td>0</td>\n",
       "      <td>0</td>\n",
       "      <td>0</td>\n",
       "      <td>0</td>\n",
       "      <td>0.051643</td>\n",
       "    </tr>\n",
       "    <tr>\n",
       "      <th>3</th>\n",
       "      <td>2</td>\n",
       "      <td>1950</td>\n",
       "      <td>1</td>\n",
       "      <td>3</td>\n",
       "      <td>1950-01-03</td>\n",
       "      <td>11:55:00</td>\n",
       "      <td>3</td>\n",
       "      <td>IL</td>\n",
       "      <td>17</td>\n",
       "      <td>2</td>\n",
       "      <td>...</td>\n",
       "      <td>130</td>\n",
       "      <td>1</td>\n",
       "      <td>1</td>\n",
       "      <td>1</td>\n",
       "      <td>135</td>\n",
       "      <td>0</td>\n",
       "      <td>0</td>\n",
       "      <td>0</td>\n",
       "      <td>0</td>\n",
       "      <td>0.051643</td>\n",
       "    </tr>\n",
       "    <tr>\n",
       "      <th>4</th>\n",
       "      <td>3</td>\n",
       "      <td>1950</td>\n",
       "      <td>1</td>\n",
       "      <td>3</td>\n",
       "      <td>1950-01-03</td>\n",
       "      <td>16:00:00</td>\n",
       "      <td>3</td>\n",
       "      <td>OH</td>\n",
       "      <td>39</td>\n",
       "      <td>1</td>\n",
       "      <td>...</td>\n",
       "      <td>10</td>\n",
       "      <td>1</td>\n",
       "      <td>1</td>\n",
       "      <td>1</td>\n",
       "      <td>161</td>\n",
       "      <td>0</td>\n",
       "      <td>0</td>\n",
       "      <td>0</td>\n",
       "      <td>0</td>\n",
       "      <td>0.051643</td>\n",
       "    </tr>\n",
       "  </tbody>\n",
       "</table>\n",
       "<p>5 rows × 30 columns</p>\n",
       "</div>"
      ],
      "text/plain": [
       "   om    yr  mo  dy       date      time  tz  st  stf  stn  ...  wid  ns  sn  \\\n",
       "0   1  1950   1   3 1950-01-03  11:00:00   3  MO   29    1  ...  150   2   0   \n",
       "1   1  1950   1   3 1950-01-03  11:00:00   3  MO   29    1  ...  150   2   1   \n",
       "2   1  1950   1   3 1950-01-03  11:10:00   3  IL   17    1  ...  100   2   1   \n",
       "3   2  1950   1   3 1950-01-03  11:55:00   3  IL   17    2  ...  130   1   1   \n",
       "4   3  1950   1   3 1950-01-03  16:00:00   3  OH   39    1  ...   10   1   1   \n",
       "\n",
       "   sg   f1  f2  f3  f4  fc      rday  \n",
       "0   1    0   0   0   0   0  0.051643  \n",
       "1   2  189   0   0   0   0  0.051643  \n",
       "2   2  119   0   0   0   0  0.051643  \n",
       "3   1  135   0   0   0   0  0.051643  \n",
       "4   1  161   0   0   0   0  0.051643  \n",
       "\n",
       "[5 rows x 30 columns]"
      ]
     },
     "execution_count": 66,
     "metadata": {},
     "output_type": "execute_result"
    }
   ],
   "source": [
    "tornado_df['rday']=rday\n",
    "tornado_df.head()"
   ]
  },
  {
   "cell_type": "code",
   "execution_count": 67,
   "metadata": {},
   "outputs": [
    {
     "data": {
      "text/html": [
       "<div>\n",
       "<style scoped>\n",
       "    .dataframe tbody tr th:only-of-type {\n",
       "        vertical-align: middle;\n",
       "    }\n",
       "\n",
       "    .dataframe tbody tr th {\n",
       "        vertical-align: top;\n",
       "    }\n",
       "\n",
       "    .dataframe thead th {\n",
       "        text-align: right;\n",
       "    }\n",
       "</style>\n",
       "<table border=\"1\" class=\"dataframe\">\n",
       "  <thead>\n",
       "    <tr style=\"text-align: right;\">\n",
       "      <th></th>\n",
       "      <th>om</th>\n",
       "      <th>yr</th>\n",
       "      <th>mo</th>\n",
       "      <th>dy</th>\n",
       "      <th>date</th>\n",
       "      <th>time</th>\n",
       "      <th>tz</th>\n",
       "      <th>st</th>\n",
       "      <th>stf</th>\n",
       "      <th>stn</th>\n",
       "      <th>...</th>\n",
       "      <th>wid</th>\n",
       "      <th>ns</th>\n",
       "      <th>sn</th>\n",
       "      <th>sg</th>\n",
       "      <th>f1</th>\n",
       "      <th>f2</th>\n",
       "      <th>f3</th>\n",
       "      <th>f4</th>\n",
       "      <th>fc</th>\n",
       "      <th>rday</th>\n",
       "    </tr>\n",
       "  </thead>\n",
       "  <tbody>\n",
       "    <tr>\n",
       "      <th>64820</th>\n",
       "      <td>617020</td>\n",
       "      <td>2018</td>\n",
       "      <td>12</td>\n",
       "      <td>27</td>\n",
       "      <td>2018-12-27</td>\n",
       "      <td>10:15:00</td>\n",
       "      <td>3</td>\n",
       "      <td>LA</td>\n",
       "      <td>22</td>\n",
       "      <td>0</td>\n",
       "      <td>...</td>\n",
       "      <td>25</td>\n",
       "      <td>1</td>\n",
       "      <td>1</td>\n",
       "      <td>1</td>\n",
       "      <td>1</td>\n",
       "      <td>0</td>\n",
       "      <td>0</td>\n",
       "      <td>0</td>\n",
       "      <td>0</td>\n",
       "      <td>6.214328</td>\n",
       "    </tr>\n",
       "    <tr>\n",
       "      <th>64821</th>\n",
       "      <td>617021</td>\n",
       "      <td>2018</td>\n",
       "      <td>12</td>\n",
       "      <td>27</td>\n",
       "      <td>2018-12-27</td>\n",
       "      <td>10:29:00</td>\n",
       "      <td>3</td>\n",
       "      <td>MS</td>\n",
       "      <td>28</td>\n",
       "      <td>0</td>\n",
       "      <td>...</td>\n",
       "      <td>100</td>\n",
       "      <td>1</td>\n",
       "      <td>1</td>\n",
       "      <td>1</td>\n",
       "      <td>163</td>\n",
       "      <td>0</td>\n",
       "      <td>0</td>\n",
       "      <td>0</td>\n",
       "      <td>0</td>\n",
       "      <td>6.214328</td>\n",
       "    </tr>\n",
       "    <tr>\n",
       "      <th>64822</th>\n",
       "      <td>617022</td>\n",
       "      <td>2018</td>\n",
       "      <td>12</td>\n",
       "      <td>31</td>\n",
       "      <td>2018-12-31</td>\n",
       "      <td>12:35:00</td>\n",
       "      <td>3</td>\n",
       "      <td>KY</td>\n",
       "      <td>21</td>\n",
       "      <td>0</td>\n",
       "      <td>...</td>\n",
       "      <td>125</td>\n",
       "      <td>1</td>\n",
       "      <td>1</td>\n",
       "      <td>1</td>\n",
       "      <td>221</td>\n",
       "      <td>0</td>\n",
       "      <td>0</td>\n",
       "      <td>0</td>\n",
       "      <td>0</td>\n",
       "      <td>6.283185</td>\n",
       "    </tr>\n",
       "    <tr>\n",
       "      <th>64823</th>\n",
       "      <td>617023</td>\n",
       "      <td>2018</td>\n",
       "      <td>12</td>\n",
       "      <td>31</td>\n",
       "      <td>2018-12-31</td>\n",
       "      <td>13:43:00</td>\n",
       "      <td>3</td>\n",
       "      <td>IN</td>\n",
       "      <td>18</td>\n",
       "      <td>0</td>\n",
       "      <td>...</td>\n",
       "      <td>50</td>\n",
       "      <td>1</td>\n",
       "      <td>1</td>\n",
       "      <td>1</td>\n",
       "      <td>147</td>\n",
       "      <td>0</td>\n",
       "      <td>0</td>\n",
       "      <td>0</td>\n",
       "      <td>0</td>\n",
       "      <td>6.283185</td>\n",
       "    </tr>\n",
       "    <tr>\n",
       "      <th>64824</th>\n",
       "      <td>617024</td>\n",
       "      <td>2018</td>\n",
       "      <td>12</td>\n",
       "      <td>31</td>\n",
       "      <td>2018-12-31</td>\n",
       "      <td>14:38:00</td>\n",
       "      <td>3</td>\n",
       "      <td>IN</td>\n",
       "      <td>18</td>\n",
       "      <td>0</td>\n",
       "      <td>...</td>\n",
       "      <td>140</td>\n",
       "      <td>1</td>\n",
       "      <td>1</td>\n",
       "      <td>1</td>\n",
       "      <td>61</td>\n",
       "      <td>0</td>\n",
       "      <td>0</td>\n",
       "      <td>0</td>\n",
       "      <td>0</td>\n",
       "      <td>6.283185</td>\n",
       "    </tr>\n",
       "  </tbody>\n",
       "</table>\n",
       "<p>5 rows × 30 columns</p>\n",
       "</div>"
      ],
      "text/plain": [
       "           om    yr  mo  dy       date      time  tz  st  stf  stn  ...  wid  \\\n",
       "64820  617020  2018  12  27 2018-12-27  10:15:00   3  LA   22    0  ...   25   \n",
       "64821  617021  2018  12  27 2018-12-27  10:29:00   3  MS   28    0  ...  100   \n",
       "64822  617022  2018  12  31 2018-12-31  12:35:00   3  KY   21    0  ...  125   \n",
       "64823  617023  2018  12  31 2018-12-31  13:43:00   3  IN   18    0  ...   50   \n",
       "64824  617024  2018  12  31 2018-12-31  14:38:00   3  IN   18    0  ...  140   \n",
       "\n",
       "       ns  sn  sg   f1  f2  f3  f4  fc      rday  \n",
       "64820   1   1   1    1   0   0   0   0  6.214328  \n",
       "64821   1   1   1  163   0   0   0   0  6.214328  \n",
       "64822   1   1   1  221   0   0   0   0  6.283185  \n",
       "64823   1   1   1  147   0   0   0   0  6.283185  \n",
       "64824   1   1   1   61   0   0   0   0  6.283185  \n",
       "\n",
       "[5 rows x 30 columns]"
      ]
     },
     "execution_count": 67,
     "metadata": {},
     "output_type": "execute_result"
    }
   ],
   "source": [
    "tornado_df.tail()"
   ]
  },
  {
   "cell_type": "markdown",
   "metadata": {},
   "source": [
    "Find the data where the state abbrevations don't match the state id (sft)"
   ]
  },
  {
   "cell_type": "code",
   "execution_count": 75,
   "metadata": {},
   "outputs": [
    {
     "name": "stdout",
     "output_type": "stream",
     "text": [
      "{'MO': 29, 'IL': 17, 'OH': 39, 'AR': 5, 'TX': 48, 'MS': 28, 'LA': 22, 'TN': 47, 'OK': 40, 'FL': 12, 'AL': 1, 'SC': 45, 'KS': 20, 'IA': 19, 'SD': 46, 'NE': 31, 'WY': 56, 'NC': 37, 'GA': 13, 'ND': 38, 'MN': 27, 'WI': 55, 'IN': 18, 'PA': 42, 'NM': 35, 'CT': 9, 'CO': 8, 'WV': 54, 'MD': 24, 'KY': 21, 'CA': 6, 'VA': 51, 'NJ': 34, 'MI': 26, 'MA': 25, 'NH': 33, 'OR': 41, 'NY': 36, 'MT': 30, 'AZ': 4, 'UT': 49, 'ME': 23, 'VT': 50, 'ID': 16, 'WA': 53, 'DE': 10, 'HI': 15, 'PR': 72, 'AK': 2, 'NV': 32, 'RI': 44, 'DC': 11}\n",
      "[(43456, 'ID', 19), (43832, 'ID', 19), (44139, 'ID', 19), (58996, 'TX', 39)]\n"
     ]
    }
   ],
   "source": [
    "states = [\"AL\",\"AK\",\"AZ\",\"AR\",\"CA\",\"CO\",\"CT\",\"DE\",\"FL\",\"GA\",\"HI\",\"ID\",\"IL\",\"IN\",\"IA\",\"KS\",\"KY\",\"LA\",\"ME\",\"MD\",\"MA\",\"MI\",\"MN\",\"MS\",\"MO\",\"MT\",\"NE\",\"NV\",\"NH\",\"NJ\",\"NM\",\"NY\",\"NC\",\"ND\",\"OH\",\"OK\",\"OR\",\"PA\",\"RI\",\"SC\",\"SD\",\"TN\",\"TX\",\"UT\",\"VT\",\"VA\",\"WA\",\"WV\",\"WI\",\"WY\"]\n",
    "st_not_seen = []\n",
    "st_to_stf = {}\n",
    "st_to_stf_not_seen = []\n",
    "for index in tornado_df.index:\n",
    "    if tornado_df[\"st\"][index] not in st_to_stf:\n",
    "        st_to_stf[tornado_df[\"st\"][index]] = tornado_df[\"stf\"][index]\n",
    "    elif tornado_df[\"st\"][index] in st_to_stf:\n",
    "        if st_to_stf[tornado_df[\"st\"][index]] != tornado_df[\"stf\"][index]:\n",
    "            st_to_stf_not_seen.append((index,tornado_df[\"st\"][index],tornado_df[\"stf\"][index])) \n",
    "print(st_to_stf)\n",
    "print(st_to_stf_not_seen)"
   ]
  },
  {
   "cell_type": "markdown",
   "metadata": {},
   "source": [
    "see the discrepencies between st and stf"
   ]
  },
  {
   "cell_type": "code",
   "execution_count": 80,
   "metadata": {},
   "outputs": [
    {
     "data": {
      "text/plain": [
       "st  stf\n",
       "AK  2         4\n",
       "AL  1      2216\n",
       "AR  5      1883\n",
       "AZ  4       251\n",
       "CA  6       437\n",
       "CO  8      2181\n",
       "CT  9       109\n",
       "DC  11        4\n",
       "DE  10       63\n",
       "FL  12     3392\n",
       "GA  13     1703\n",
       "HI  15       41\n",
       "IA  19     2614\n",
       "ID  16      210\n",
       "    19        3\n",
       "IL  17     2558\n",
       "IN  18     1532\n",
       "KS  20     4302\n",
       "KY  21     1034\n",
       "LA  22     2093\n",
       "MA  25      174\n",
       "MD  24      369\n",
       "ME  23      134\n",
       "MI  26     1053\n",
       "MN  27     1877\n",
       "MO  29     2374\n",
       "MS  28     2272\n",
       "MT  30      425\n",
       "NC  37     1345\n",
       "ND  38     1578\n",
       "NE  31     2909\n",
       "NH  33       97\n",
       "NJ  34      151\n",
       "NM  35      597\n",
       "NV  32       93\n",
       "NY  36      456\n",
       "OH  39     1127\n",
       "OK  40     3921\n",
       "OR  41      118\n",
       "PA  42      834\n",
       "PR  72       26\n",
       "RI  44       14\n",
       "SC  45     1029\n",
       "SD  46     1808\n",
       "TN  47     1253\n",
       "TX  39        1\n",
       "    48     8860\n",
       "UT  49      130\n",
       "VA  51      752\n",
       "VT  50       47\n",
       "WA  53      122\n",
       "WI  55     1403\n",
       "WV  54      152\n",
       "WY  56      694\n",
       "dtype: int64"
      ]
     },
     "execution_count": 80,
     "metadata": {},
     "output_type": "execute_result"
    }
   ],
   "source": [
    "tornado_df.groupby([\"st\", \"stf\"]).size()"
   ]
  },
  {
   "cell_type": "markdown",
   "metadata": {},
   "source": [
    "Starting: ID, \n",
    "Ending: ID, \n",
    "stf should be 16"
   ]
  },
  {
   "cell_type": "code",
   "execution_count": 82,
   "metadata": {},
   "outputs": [
    {
     "data": {
      "text/plain": [
       "om                        10\n",
       "yr                      2002\n",
       "mo                         2\n",
       "dy                         7\n",
       "date     2002-02-07 00:00:00\n",
       "time                11:45:00\n",
       "tz                         3\n",
       "st                        ID\n",
       "stf                       19\n",
       "stn                        1\n",
       "mag                        0\n",
       "inj                        0\n",
       "fat                        0\n",
       "loss                       0\n",
       "closs                      0\n",
       "slat                   43.87\n",
       "slon                  -116.5\n",
       "elat                   43.87\n",
       "elon                  -116.5\n",
       "len                      0.1\n",
       "wid                       20\n",
       "ns                         1\n",
       "sn                         1\n",
       "sg                         1\n",
       "f1                        45\n",
       "f2                         0\n",
       "f3                         0\n",
       "f4                         0\n",
       "fc                         0\n",
       "rday                 0.65414\n",
       "Name: 43456, dtype: object"
      ]
     },
     "execution_count": 82,
     "metadata": {},
     "output_type": "execute_result"
    }
   ],
   "source": [
    "tornado_df.iloc[43456]"
   ]
  },
  {
   "cell_type": "markdown",
   "metadata": {},
   "source": [
    "Starting: ID, \n",
    "Ending: ID,\n",
    "stf should be 16"
   ]
  },
  {
   "cell_type": "code",
   "execution_count": 83,
   "metadata": {},
   "outputs": [
    {
     "data": {
      "text/plain": [
       "om                       146\n",
       "yr                      2002\n",
       "mo                         6\n",
       "dy                         1\n",
       "date     2002-06-01 00:00:00\n",
       "time                16:07:00\n",
       "tz                         3\n",
       "st                        ID\n",
       "stf                       19\n",
       "stn                       17\n",
       "mag                        1\n",
       "inj                        0\n",
       "fat                        0\n",
       "loss                    0.06\n",
       "closs                      0\n",
       "slat                    43.7\n",
       "slon                 -112.15\n",
       "elat                   43.73\n",
       "elon                  -112.1\n",
       "len                      2.5\n",
       "wid                       70\n",
       "ns                         1\n",
       "sn                         1\n",
       "sg                         1\n",
       "f1                        51\n",
       "f2                         0\n",
       "f3                         0\n",
       "f4                         0\n",
       "fc                         0\n",
       "rday                 2.61656\n",
       "Name: 43832, dtype: object"
      ]
     },
     "execution_count": 83,
     "metadata": {},
     "output_type": "execute_result"
    }
   ],
   "source": [
    "tornado_df.iloc[43832]"
   ]
  },
  {
   "cell_type": "markdown",
   "metadata": {},
   "source": [
    "Starting: ID,\n",
    "Ending: ID,\n",
    "stf should be 19"
   ]
  },
  {
   "cell_type": "code",
   "execution_count": 85,
   "metadata": {},
   "outputs": [
    {
     "data": {
      "text/plain": [
       "om                       307\n",
       "yr                      2002\n",
       "mo                         9\n",
       "dy                        29\n",
       "date     2002-09-29 00:00:00\n",
       "time                17:50:00\n",
       "tz                         3\n",
       "st                        ID\n",
       "stf                       19\n",
       "stn                       34\n",
       "mag                        0\n",
       "inj                        0\n",
       "fat                        0\n",
       "loss                       0\n",
       "closs                      0\n",
       "slat                   43.87\n",
       "slon                  -116.6\n",
       "elat                   43.87\n",
       "elon                 -116.58\n",
       "len                        1\n",
       "wid                       10\n",
       "ns                         1\n",
       "sn                         1\n",
       "sg                         1\n",
       "f1                        45\n",
       "f2                         0\n",
       "f3                         0\n",
       "f4                         0\n",
       "fc                         0\n",
       "rday                 4.68226\n",
       "Name: 44139, dtype: object"
      ]
     },
     "execution_count": 85,
     "metadata": {},
     "output_type": "execute_result"
    }
   ],
   "source": [
    "tornado_df.iloc[44139]"
   ]
  },
  {
   "cell_type": "markdown",
   "metadata": {},
   "source": [
    "Starting: OH,\n",
    "Ending: OH\n",
    "st should be OH"
   ]
  },
  {
   "cell_type": "code",
   "execution_count": 86,
   "metadata": {},
   "outputs": [
    {
     "data": {
      "text/plain": [
       "om                    483178\n",
       "yr                      2013\n",
       "mo                        10\n",
       "dy                        31\n",
       "date     2013-10-31 00:00:00\n",
       "time                23:07:00\n",
       "tz                         3\n",
       "st                        TX\n",
       "stf                       39\n",
       "stn                        0\n",
       "mag                        0\n",
       "inj                        0\n",
       "fat                        0\n",
       "loss                     0.1\n",
       "closs                      0\n",
       "slat                 39.9706\n",
       "slon                 -82.529\n",
       "elat                 39.9721\n",
       "elon                -82.5273\n",
       "len                     0.14\n",
       "wid                       50\n",
       "ns                         1\n",
       "sn                         1\n",
       "sg                         1\n",
       "f1                        89\n",
       "f2                         0\n",
       "f3                         0\n",
       "f4                         0\n",
       "fc                         0\n",
       "rday                 5.23312\n",
       "Name: 58996, dtype: object"
      ]
     },
     "execution_count": 86,
     "metadata": {},
     "output_type": "execute_result"
    }
   ],
   "source": [
    "tornado_df.iloc[58996]"
   ]
  },
  {
   "cell_type": "markdown",
   "metadata": {},
   "source": [
    "Correct the st and stf"
   ]
  },
  {
   "cell_type": "code",
   "execution_count": 88,
   "metadata": {},
   "outputs": [],
   "source": [
    "# [(43456, 'ID', 19), (43832, 'ID', 19), (44139, 'ID', 19), (58996, 'TX', 39)]\n",
    "tornado_df.at[43456,'stf'] = 16\n",
    "tornado_df.at[43832,'stf'] = 16\n",
    "tornado_df.at[44139,'stf'] = 16\n",
    "tornado_df.at[58996,'st'] = 'OH'"
   ]
  },
  {
   "cell_type": "code",
   "execution_count": 92,
   "metadata": {},
   "outputs": [
    {
     "data": {
      "text/plain": [
       "om                    483178\n",
       "yr                      2013\n",
       "mo                        10\n",
       "dy                        31\n",
       "date     2013-10-31 00:00:00\n",
       "time                23:07:00\n",
       "tz                         3\n",
       "st                        OH\n",
       "stf                       39\n",
       "stn                        0\n",
       "mag                        0\n",
       "inj                        0\n",
       "fat                        0\n",
       "loss                     0.1\n",
       "closs                      0\n",
       "slat                 39.9706\n",
       "slon                 -82.529\n",
       "elat                 39.9721\n",
       "elon                -82.5273\n",
       "len                     0.14\n",
       "wid                       50\n",
       "ns                         1\n",
       "sn                         1\n",
       "sg                         1\n",
       "f1                        89\n",
       "f2                         0\n",
       "f3                         0\n",
       "f4                         0\n",
       "fc                         0\n",
       "rday                 5.23312\n",
       "Name: 58996, dtype: object"
      ]
     },
     "execution_count": 92,
     "metadata": {},
     "output_type": "execute_result"
    }
   ],
   "source": [
    "tornado_df.iloc[58996]"
   ]
  },
  {
   "cell_type": "code",
   "execution_count": 108,
   "metadata": {},
   "outputs": [
    {
     "data": {
      "text/plain": [
       "st  stf\n",
       "AK  2         4\n",
       "AL  1      2216\n",
       "AR  5      1883\n",
       "AZ  4       251\n",
       "CA  6       437\n",
       "CO  8      2181\n",
       "CT  9       109\n",
       "DC  11        4\n",
       "DE  10       63\n",
       "FL  12     3392\n",
       "GA  13     1703\n",
       "HI  15       41\n",
       "IA  19     2614\n",
       "ID  16      213\n",
       "IL  17     2558\n",
       "IN  18     1532\n",
       "KS  20     4302\n",
       "KY  21     1034\n",
       "LA  22     2093\n",
       "MA  25      174\n",
       "MD  24      369\n",
       "ME  23      134\n",
       "MI  26     1053\n",
       "MN  27     1877\n",
       "MO  29     2374\n",
       "MS  28     2272\n",
       "MT  30      425\n",
       "NC  37     1345\n",
       "ND  38     1578\n",
       "NE  31     2909\n",
       "NH  33       97\n",
       "NJ  34      151\n",
       "NM  35      597\n",
       "NV  32       93\n",
       "NY  36      456\n",
       "OH  39     1128\n",
       "OK  40     3921\n",
       "OR  41      118\n",
       "PA  42      834\n",
       "PR  72       26\n",
       "RI  44       14\n",
       "SC  45     1029\n",
       "SD  46     1808\n",
       "TN  47     1253\n",
       "TX  48     8860\n",
       "UT  49      130\n",
       "VA  51      752\n",
       "VT  50       47\n",
       "WA  53      122\n",
       "WI  55     1403\n",
       "WV  54      152\n",
       "WY  56      694\n",
       "dtype: int64"
      ]
     },
     "execution_count": 108,
     "metadata": {},
     "output_type": "execute_result"
    }
   ],
   "source": [
    "tornado_df.groupby(['st','stf']).size()"
   ]
  },
  {
   "cell_type": "code",
   "execution_count": 101,
   "metadata": {},
   "outputs": [
    {
     "data": {
      "text/plain": [
       "TX    8860\n",
       "KS    4302\n",
       "OK    3921\n",
       "FL    3392\n",
       "NE    2909\n",
       "IA    2614\n",
       "IL    2558\n",
       "MO    2374\n",
       "MS    2272\n",
       "AL    2216\n",
       "CO    2181\n",
       "LA    2093\n",
       "AR    1883\n",
       "MN    1877\n",
       "SD    1808\n",
       "GA    1703\n",
       "ND    1578\n",
       "IN    1532\n",
       "WI    1403\n",
       "NC    1345\n",
       "TN    1253\n",
       "OH    1128\n",
       "MI    1053\n",
       "KY    1034\n",
       "SC    1029\n",
       "PA     834\n",
       "VA     752\n",
       "WY     694\n",
       "NM     597\n",
       "NY     456\n",
       "CA     437\n",
       "MT     425\n",
       "MD     369\n",
       "AZ     251\n",
       "ID     213\n",
       "MA     174\n",
       "WV     152\n",
       "NJ     151\n",
       "ME     134\n",
       "UT     130\n",
       "WA     122\n",
       "OR     118\n",
       "CT     109\n",
       "NH      97\n",
       "NV      93\n",
       "DE      63\n",
       "VT      47\n",
       "HI      41\n",
       "PR      26\n",
       "RI      14\n",
       "AK       4\n",
       "DC       4\n",
       "Name: st, dtype: int64"
      ]
     },
     "execution_count": 101,
     "metadata": {},
     "output_type": "execute_result"
    }
   ],
   "source": [
    "tornado_df['st'].value_counts()"
   ]
  },
  {
   "cell_type": "code",
   "execution_count": 109,
   "metadata": {},
   "outputs": [
    {
     "data": {
      "text/plain": [
       "om                int64\n",
       "yr                int64\n",
       "mo                int64\n",
       "dy                int64\n",
       "date     datetime64[ns]\n",
       "time             object\n",
       "tz                int64\n",
       "st               object\n",
       "stf               int64\n",
       "stn               int64\n",
       "mag               int64\n",
       "inj               int64\n",
       "fat               int64\n",
       "loss            float64\n",
       "closs           float64\n",
       "slat            float64\n",
       "slon            float64\n",
       "elat            float64\n",
       "elon            float64\n",
       "len             float64\n",
       "wid               int64\n",
       "ns                int64\n",
       "sn                int64\n",
       "sg                int64\n",
       "f1                int64\n",
       "f2                int64\n",
       "f3                int64\n",
       "f4                int64\n",
       "fc                int64\n",
       "rday            float64\n",
       "dtype: object"
      ]
     },
     "execution_count": 109,
     "metadata": {},
     "output_type": "execute_result"
    }
   ],
   "source": [
    "tornado_df.dtypes"
   ]
  },
  {
   "cell_type": "code",
   "execution_count": 57,
   "metadata": {},
   "outputs": [
    {
     "data": {
      "text/plain": [
       "<matplotlib.axes._subplots.AxesSubplot at 0x2557af9d6a0>"
      ]
     },
     "execution_count": 57,
     "metadata": {},
     "output_type": "execute_result"
    },
    {
     "data": {
      "image/png": "[encoded data removed]",
      "text/plain": [
       "<Figure size 432x288 with 1 Axes>"
      ]
     },
     "metadata": {
      "needs_background": "light"
     },
     "output_type": "display_data"
    }
   ],
   "source": [
    "tornado_df['loss'].value_counts()[0:5].sort_index().plot(kind=\"bar\")"
   ]
  },
  {
   "cell_type": "code",
   "execution_count": 114,
   "metadata": {},
   "outputs": [
    {
     "data": {
      "text/plain": [
       "111"
      ]
     },
     "execution_count": 114,
     "metadata": {},
     "output_type": "execute_result"
    }
   ],
   "source": [
    "len(tornado_df.loc[tornado_df['mag'] == -9])"
   ]
  },
  {
   "cell_type": "code",
   "execution_count": 115,
   "metadata": {},
   "outputs": [
    {
     "data": {
      "text/plain": [
       "111"
      ]
     },
     "execution_count": 115,
     "metadata": {},
     "output_type": "execute_result"
    }
   ],
   "source": [
    "tornado_df_pre = tornado_df.loc[tornado_df['mag'] != -9]\n",
    "len(tornado_df) - len(tornado_df_pre)"
   ]
  },
  {
   "cell_type": "code",
   "execution_count": 117,
   "metadata": {},
   "outputs": [
    {
     "data": {
      "text/plain": [
       "0"
      ]
     },
     "execution_count": 117,
     "metadata": {},
     "output_type": "execute_result"
    }
   ],
   "source": [
    "len(tornado_df_pre.loc[tornado_df_pre['loss'] < 0])"
   ]
  },
  {
   "cell_type": "code",
   "execution_count": 119,
   "metadata": {},
   "outputs": [],
   "source": [
    "# drop the om, yr, mo, dy, date, st, stn, ns, sn, sg, f1, f2, f3, f4, fc\n",
    "tornado_df_pre = tornado_df_pre.drop(['om','yr','mo','dy','date','st','stn','ns','sn','sg','f1','f2','f3','f4','fc'], axis=1)"
   ]
  },
  {
   "cell_type": "code",
   "execution_count": 120,
   "metadata": {},
   "outputs": [
    {
     "data": {
      "text/html": [
       "<div>\n",
       "<style scoped>\n",
       "    .dataframe tbody tr th:only-of-type {\n",
       "        vertical-align: middle;\n",
       "    }\n",
       "\n",
       "    .dataframe tbody tr th {\n",
       "        vertical-align: top;\n",
       "    }\n",
       "\n",
       "    .dataframe thead th {\n",
       "        text-align: right;\n",
       "    }\n",
       "</style>\n",
       "<table border=\"1\" class=\"dataframe\">\n",
       "  <thead>\n",
       "    <tr style=\"text-align: right;\">\n",
       "      <th></th>\n",
       "      <th>time</th>\n",
       "      <th>tz</th>\n",
       "      <th>stf</th>\n",
       "      <th>mag</th>\n",
       "      <th>inj</th>\n",
       "      <th>fat</th>\n",
       "      <th>loss</th>\n",
       "      <th>closs</th>\n",
       "      <th>slat</th>\n",
       "      <th>slon</th>\n",
       "      <th>elat</th>\n",
       "      <th>elon</th>\n",
       "      <th>len</th>\n",
       "      <th>wid</th>\n",
       "      <th>rday</th>\n",
       "    </tr>\n",
       "  </thead>\n",
       "  <tbody>\n",
       "    <tr>\n",
       "      <th>0</th>\n",
       "      <td>11:00:00</td>\n",
       "      <td>3</td>\n",
       "      <td>29</td>\n",
       "      <td>3</td>\n",
       "      <td>3</td>\n",
       "      <td>0</td>\n",
       "      <td>6.0</td>\n",
       "      <td>0.0</td>\n",
       "      <td>38.77</td>\n",
       "      <td>-90.22</td>\n",
       "      <td>38.83</td>\n",
       "      <td>-90.03</td>\n",
       "      <td>9.5</td>\n",
       "      <td>150</td>\n",
       "      <td>0.051643</td>\n",
       "    </tr>\n",
       "    <tr>\n",
       "      <th>1</th>\n",
       "      <td>11:00:00</td>\n",
       "      <td>3</td>\n",
       "      <td>29</td>\n",
       "      <td>3</td>\n",
       "      <td>3</td>\n",
       "      <td>0</td>\n",
       "      <td>6.0</td>\n",
       "      <td>0.0</td>\n",
       "      <td>38.77</td>\n",
       "      <td>-90.22</td>\n",
       "      <td>38.82</td>\n",
       "      <td>-90.12</td>\n",
       "      <td>6.2</td>\n",
       "      <td>150</td>\n",
       "      <td>0.051643</td>\n",
       "    </tr>\n",
       "    <tr>\n",
       "      <th>2</th>\n",
       "      <td>11:10:00</td>\n",
       "      <td>3</td>\n",
       "      <td>17</td>\n",
       "      <td>3</td>\n",
       "      <td>0</td>\n",
       "      <td>0</td>\n",
       "      <td>5.0</td>\n",
       "      <td>0.0</td>\n",
       "      <td>38.82</td>\n",
       "      <td>-90.12</td>\n",
       "      <td>38.83</td>\n",
       "      <td>-90.03</td>\n",
       "      <td>3.3</td>\n",
       "      <td>100</td>\n",
       "      <td>0.051643</td>\n",
       "    </tr>\n",
       "    <tr>\n",
       "      <th>3</th>\n",
       "      <td>11:55:00</td>\n",
       "      <td>3</td>\n",
       "      <td>17</td>\n",
       "      <td>3</td>\n",
       "      <td>3</td>\n",
       "      <td>0</td>\n",
       "      <td>5.0</td>\n",
       "      <td>0.0</td>\n",
       "      <td>39.10</td>\n",
       "      <td>-89.30</td>\n",
       "      <td>39.12</td>\n",
       "      <td>-89.23</td>\n",
       "      <td>3.6</td>\n",
       "      <td>130</td>\n",
       "      <td>0.051643</td>\n",
       "    </tr>\n",
       "    <tr>\n",
       "      <th>4</th>\n",
       "      <td>16:00:00</td>\n",
       "      <td>3</td>\n",
       "      <td>39</td>\n",
       "      <td>1</td>\n",
       "      <td>1</td>\n",
       "      <td>0</td>\n",
       "      <td>4.0</td>\n",
       "      <td>0.0</td>\n",
       "      <td>40.88</td>\n",
       "      <td>-84.58</td>\n",
       "      <td>0.00</td>\n",
       "      <td>0.00</td>\n",
       "      <td>0.1</td>\n",
       "      <td>10</td>\n",
       "      <td>0.051643</td>\n",
       "    </tr>\n",
       "  </tbody>\n",
       "</table>\n",
       "</div>"
      ],
      "text/plain": [
       "       time  tz  stf  mag  inj  fat  loss  closs   slat   slon   elat   elon  \\\n",
       "0  11:00:00   3   29    3    3    0   6.0    0.0  38.77 -90.22  38.83 -90.03   \n",
       "1  11:00:00   3   29    3    3    0   6.0    0.0  38.77 -90.22  38.82 -90.12   \n",
       "2  11:10:00   3   17    3    0    0   5.0    0.0  38.82 -90.12  38.83 -90.03   \n",
       "3  11:55:00   3   17    3    3    0   5.0    0.0  39.10 -89.30  39.12 -89.23   \n",
       "4  16:00:00   3   39    1    1    0   4.0    0.0  40.88 -84.58   0.00   0.00   \n",
       "\n",
       "   len  wid      rday  \n",
       "0  9.5  150  0.051643  \n",
       "1  6.2  150  0.051643  \n",
       "2  3.3  100  0.051643  \n",
       "3  3.6  130  0.051643  \n",
       "4  0.1   10  0.051643  "
      ]
     },
     "execution_count": 120,
     "metadata": {},
     "output_type": "execute_result"
    }
   ],
   "source": [
    "tornado_df_pre.head()"
   ]
  },
  {
   "cell_type": "code",
   "execution_count": 125,
   "metadata": {},
   "outputs": [
    {
     "data": {
      "text/plain": [
       "0"
      ]
     },
     "execution_count": 125,
     "metadata": {},
     "output_type": "execute_result"
    }
   ],
   "source": [
    "len(tornado_df_pre.loc[tornado_df_pre['mag']<0])"
   ]
  },
  {
   "cell_type": "code",
   "execution_count": 127,
   "metadata": {},
   "outputs": [
    {
     "data": {
      "text/plain": [
       "37"
      ]
     },
     "execution_count": 127,
     "metadata": {},
     "output_type": "execute_result"
    }
   ],
   "source": [
    "len(tornado_df_pre.loc[tornado_df_pre['tz']!=3])"
   ]
  },
  {
   "cell_type": "code",
   "execution_count": 126,
   "metadata": {},
   "outputs": [],
   "source": [
    "path=\"./1950-2018_torn_preprocessed.csv\"\n",
    "tornado_df_pre.to_csv(path)"
   ]
  },
  {
   "cell_type": "code",
   "execution_count": null,
   "metadata": {},
   "outputs": [],
   "source": []
  }
 ],
 "metadata": {
  "kernelspec": {
   "display_name": "Python 3",
   "language": "python",
   "name": "python3"
  },
  "language_info": {
   "codemirror_mode": {
    "name": "ipython",
    "version": 3
   },
   "file_extension": ".py",
   "mimetype": "text/x-python",
   "name": "python",
   "nbconvert_exporter": "python",
   "pygments_lexer": "ipython3",
   "version": "3.6.5"
  }
 },
 "nbformat": 4,
 "nbformat_minor": 2
}
