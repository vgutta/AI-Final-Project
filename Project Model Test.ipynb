{
 "cells": [
  {
   "cell_type": "code",
   "execution_count": 23,
   "metadata": {},
   "outputs": [],
   "source": [
    "import numpy as np\n",
    "import pandas as pd\n",
    "from datetime import datetime\n",
    "import matplotlib.pyplot as plt\n",
    "from sklearn import preprocessing\n",
    "from sklearn.model_selection import train_test_split\n",
    "from keras.models import Sequential\n",
    "from keras.layers import Dense, Dropout, BatchNormalization\n",
    "from keras.callbacks import EarlyStopping\n",
    "from keras import optimizers\n",
    "from keras import regularizers"
   ]
  },
  {
   "cell_type": "code",
   "execution_count": 36,
   "metadata": {},
   "outputs": [],
   "source": [
    "BATCH_SIZE = 256\n",
    "EPOCHS = 20\n",
    "LEARNING_RATE = 0.001"
   ]
  },
  {
   "cell_type": "code",
   "execution_count": 25,
   "metadata": {},
   "outputs": [],
   "source": [
    "tornado_df = pd.read_csv(\"./1950-2018_torn_preprocessed.csv\",)"
   ]
  },
  {
   "cell_type": "code",
   "execution_count": 26,
   "metadata": {},
   "outputs": [
    {
     "data": {
      "text/html": [
       "<div>\n",
       "<style scoped>\n",
       "    .dataframe tbody tr th:only-of-type {\n",
       "        vertical-align: middle;\n",
       "    }\n",
       "\n",
       "    .dataframe tbody tr th {\n",
       "        vertical-align: top;\n",
       "    }\n",
       "\n",
       "    .dataframe thead th {\n",
       "        text-align: right;\n",
       "    }\n",
       "</style>\n",
       "<table border=\"1\" class=\"dataframe\">\n",
       "  <thead>\n",
       "    <tr style=\"text-align: right;\">\n",
       "      <th></th>\n",
       "      <th>Unnamed: 0</th>\n",
       "      <th>tz</th>\n",
       "      <th>stf</th>\n",
       "      <th>mag</th>\n",
       "      <th>inj</th>\n",
       "      <th>fat</th>\n",
       "      <th>loss</th>\n",
       "      <th>closs</th>\n",
       "      <th>slat</th>\n",
       "      <th>slon</th>\n",
       "      <th>elat</th>\n",
       "      <th>elon</th>\n",
       "      <th>len</th>\n",
       "      <th>wid</th>\n",
       "      <th>day_rad</th>\n",
       "      <th>time_rad</th>\n",
       "    </tr>\n",
       "  </thead>\n",
       "  <tbody>\n",
       "    <tr>\n",
       "      <th>0</th>\n",
       "      <td>0</td>\n",
       "      <td>3</td>\n",
       "      <td>29</td>\n",
       "      <td>3</td>\n",
       "      <td>3</td>\n",
       "      <td>0</td>\n",
       "      <td>6.0</td>\n",
       "      <td>0.0</td>\n",
       "      <td>38.77</td>\n",
       "      <td>-90.22</td>\n",
       "      <td>38.83</td>\n",
       "      <td>-90.03</td>\n",
       "      <td>9.5</td>\n",
       "      <td>150</td>\n",
       "      <td>0.051643</td>\n",
       "      <td>2.879793</td>\n",
       "    </tr>\n",
       "    <tr>\n",
       "      <th>1</th>\n",
       "      <td>1</td>\n",
       "      <td>3</td>\n",
       "      <td>29</td>\n",
       "      <td>3</td>\n",
       "      <td>3</td>\n",
       "      <td>0</td>\n",
       "      <td>6.0</td>\n",
       "      <td>0.0</td>\n",
       "      <td>38.77</td>\n",
       "      <td>-90.22</td>\n",
       "      <td>38.82</td>\n",
       "      <td>-90.12</td>\n",
       "      <td>6.2</td>\n",
       "      <td>150</td>\n",
       "      <td>0.051643</td>\n",
       "      <td>2.879793</td>\n",
       "    </tr>\n",
       "    <tr>\n",
       "      <th>2</th>\n",
       "      <td>2</td>\n",
       "      <td>3</td>\n",
       "      <td>17</td>\n",
       "      <td>3</td>\n",
       "      <td>0</td>\n",
       "      <td>0</td>\n",
       "      <td>5.0</td>\n",
       "      <td>0.0</td>\n",
       "      <td>38.82</td>\n",
       "      <td>-90.12</td>\n",
       "      <td>38.83</td>\n",
       "      <td>-90.03</td>\n",
       "      <td>3.3</td>\n",
       "      <td>100</td>\n",
       "      <td>0.051643</td>\n",
       "      <td>2.923426</td>\n",
       "    </tr>\n",
       "    <tr>\n",
       "      <th>3</th>\n",
       "      <td>3</td>\n",
       "      <td>3</td>\n",
       "      <td>17</td>\n",
       "      <td>3</td>\n",
       "      <td>3</td>\n",
       "      <td>0</td>\n",
       "      <td>5.0</td>\n",
       "      <td>0.0</td>\n",
       "      <td>39.10</td>\n",
       "      <td>-89.30</td>\n",
       "      <td>39.12</td>\n",
       "      <td>-89.23</td>\n",
       "      <td>3.6</td>\n",
       "      <td>130</td>\n",
       "      <td>0.051643</td>\n",
       "      <td>3.119776</td>\n",
       "    </tr>\n",
       "    <tr>\n",
       "      <th>4</th>\n",
       "      <td>4</td>\n",
       "      <td>3</td>\n",
       "      <td>39</td>\n",
       "      <td>1</td>\n",
       "      <td>1</td>\n",
       "      <td>0</td>\n",
       "      <td>4.0</td>\n",
       "      <td>0.0</td>\n",
       "      <td>40.88</td>\n",
       "      <td>-84.58</td>\n",
       "      <td>0.00</td>\n",
       "      <td>0.00</td>\n",
       "      <td>0.1</td>\n",
       "      <td>10</td>\n",
       "      <td>0.051643</td>\n",
       "      <td>4.188790</td>\n",
       "    </tr>\n",
       "  </tbody>\n",
       "</table>\n",
       "</div>"
      ],
      "text/plain": [
       "   Unnamed: 0  tz  stf  mag  inj  fat  loss  closs   slat   slon   elat  \\\n",
       "0           0   3   29    3    3    0   6.0    0.0  38.77 -90.22  38.83   \n",
       "1           1   3   29    3    3    0   6.0    0.0  38.77 -90.22  38.82   \n",
       "2           2   3   17    3    0    0   5.0    0.0  38.82 -90.12  38.83   \n",
       "3           3   3   17    3    3    0   5.0    0.0  39.10 -89.30  39.12   \n",
       "4           4   3   39    1    1    0   4.0    0.0  40.88 -84.58   0.00   \n",
       "\n",
       "    elon  len  wid   day_rad  time_rad  \n",
       "0 -90.03  9.5  150  0.051643  2.879793  \n",
       "1 -90.12  6.2  150  0.051643  2.879793  \n",
       "2 -90.03  3.3  100  0.051643  2.923426  \n",
       "3 -89.23  3.6  130  0.051643  3.119776  \n",
       "4   0.00  0.1   10  0.051643  4.188790  "
      ]
     },
     "execution_count": 26,
     "metadata": {},
     "output_type": "execute_result"
    }
   ],
   "source": [
    "tornado_df.head()"
   ]
  },
  {
   "cell_type": "code",
   "execution_count": 27,
   "metadata": {},
   "outputs": [
    {
     "data": {
      "text/plain": [
       "Unnamed: 0      int64\n",
       "tz              int64\n",
       "stf             int64\n",
       "mag             int64\n",
       "inj             int64\n",
       "fat             int64\n",
       "loss          float64\n",
       "closs         float64\n",
       "slat          float64\n",
       "slon          float64\n",
       "elat          float64\n",
       "elon          float64\n",
       "len           float64\n",
       "wid             int64\n",
       "day_rad       float64\n",
       "time_rad      float64\n",
       "dtype: object"
      ]
     },
     "execution_count": 27,
     "metadata": {},
     "output_type": "execute_result"
    }
   ],
   "source": [
    "tornado_df.dtypes"
   ]
  },
  {
   "cell_type": "code",
   "execution_count": 28,
   "metadata": {},
   "outputs": [],
   "source": [
    "NUM_VALIDATION = 0.20\n",
    "tornado_train_df, tornado_validation_df = train_test_split(tornado_df, test_size=NUM_VALIDATION, random_state=1)"
   ]
  },
  {
   "cell_type": "code",
   "execution_count": 29,
   "metadata": {},
   "outputs": [],
   "source": [
    "NUM_TEST = 0.10\n",
    "tornado_train_df, tornado_test_df = train_test_split(tornado_train_df, test_size=NUM_TEST, random_state=1)"
   ]
  },
  {
   "cell_type": "code",
   "execution_count": 30,
   "metadata": {},
   "outputs": [
    {
     "name": "stdout",
     "output_type": "stream",
     "text": [
      "0.0800135982940322\n",
      "0.7199833111845968\n",
      "0.20000309052137097\n"
     ]
    }
   ],
   "source": [
    "print(len(tornado_test_df)/len(tornado_df))\n",
    "print(len(tornado_train_df)/len(tornado_df))\n",
    "print(len(tornado_validation_df)/len(tornado_df))"
   ]
  },
  {
   "cell_type": "code",
   "execution_count": 31,
   "metadata": {},
   "outputs": [],
   "source": [
    "tornado_train_labels = tornado_train_df['elat'].values\n",
    "tornado_validation_labels = tornado_validation_df['elat'].values\n",
    "tornado_train_df = tornado_train_df.drop(['elat'], axis=1)\n",
    "tornado_validation_df = tornado_validation_df.drop(['elat'], axis=1)"
   ]
  },
  {
   "cell_type": "code",
   "execution_count": 39,
   "metadata": {},
   "outputs": [
    {
     "ename": "ValueError",
     "evalue": "operands could not be broadcast together with shapes (5178,16) (15,) (5178,16) ",
     "output_type": "error",
     "traceback": [
      "\u001b[1;31m---------------------------------------------------------------------------\u001b[0m",
      "\u001b[1;31mValueError\u001b[0m                                Traceback (most recent call last)",
      "\u001b[1;32m<ipython-input-39-95e722e2ab0c>\u001b[0m in \u001b[0;36m<module>\u001b[1;34m\u001b[0m\n\u001b[0;32m      2\u001b[0m \u001b[0mtrain_scaled\u001b[0m \u001b[1;33m=\u001b[0m \u001b[0mscaler\u001b[0m\u001b[1;33m.\u001b[0m\u001b[0mfit_transform\u001b[0m\u001b[1;33m(\u001b[0m\u001b[0mtornado_train_df\u001b[0m\u001b[1;33m)\u001b[0m\u001b[1;33m\u001b[0m\u001b[0m\n\u001b[0;32m      3\u001b[0m \u001b[0mvalidation_scaled\u001b[0m \u001b[1;33m=\u001b[0m \u001b[0mscaler\u001b[0m\u001b[1;33m.\u001b[0m\u001b[0mtransform\u001b[0m\u001b[1;33m(\u001b[0m\u001b[0mtornado_validation_df\u001b[0m\u001b[1;33m)\u001b[0m\u001b[1;33m\u001b[0m\u001b[0m\n\u001b[1;32m----> 4\u001b[1;33m \u001b[0mtest_scaled\u001b[0m \u001b[1;33m=\u001b[0m \u001b[0mscaler\u001b[0m\u001b[1;33m.\u001b[0m\u001b[0mtransform\u001b[0m\u001b[1;33m(\u001b[0m\u001b[0mtornado_test_df\u001b[0m\u001b[1;33m)\u001b[0m\u001b[1;33m\u001b[0m\u001b[0m\n\u001b[0m",
      "\u001b[1;32m~\\Anaconda3_5_2\\lib\\site-packages\\sklearn\\preprocessing\\data.py\u001b[0m in \u001b[0;36mtransform\u001b[1;34m(self, X)\u001b[0m\n\u001b[0;32m    387\u001b[0m                         force_all_finite=\"allow-nan\")\n\u001b[0;32m    388\u001b[0m \u001b[1;33m\u001b[0m\u001b[0m\n\u001b[1;32m--> 389\u001b[1;33m         \u001b[0mX\u001b[0m \u001b[1;33m*=\u001b[0m \u001b[0mself\u001b[0m\u001b[1;33m.\u001b[0m\u001b[0mscale_\u001b[0m\u001b[1;33m\u001b[0m\u001b[0m\n\u001b[0m\u001b[0;32m    390\u001b[0m         \u001b[0mX\u001b[0m \u001b[1;33m+=\u001b[0m \u001b[0mself\u001b[0m\u001b[1;33m.\u001b[0m\u001b[0mmin_\u001b[0m\u001b[1;33m\u001b[0m\u001b[0m\n\u001b[0;32m    391\u001b[0m         \u001b[1;32mreturn\u001b[0m \u001b[0mX\u001b[0m\u001b[1;33m\u001b[0m\u001b[0m\n",
      "\u001b[1;31mValueError\u001b[0m: operands could not be broadcast together with shapes (5178,16) (15,) (5178,16) "
     ]
    }
   ],
   "source": [
    "# scaler = preprocessing.MinMaxScaler()\n",
    "# train_scaled = scaler.fit_transform(tornado_train_df)\n",
    "# validation_scaled = scaler.transform(tornado_validation_df)\n",
    "# test_scaled = scaler.transform(tornado_test_df)"
   ]
  },
  {
   "cell_type": "code",
   "execution_count": 33,
   "metadata": {},
   "outputs": [],
   "source": [
    "model = Sequential()\n",
    "model.add(Dense(256, activation='relu', input_dim=tornado_train_df.shape[1], activity_regularizer=regularizers.l1(0.01)))\n",
    "model.add(BatchNormalization())\n",
    "model.add(Dense(128, activation='relu'))\n",
    "model.add(BatchNormalization())\n",
    "model.add(Dense(64, activation='relu'))\n",
    "model.add(BatchNormalization())\n",
    "model.add(Dense(32, activation='relu'))\n",
    "model.add(BatchNormalization())\n",
    "model.add(Dense(8, activation='relu'))\n",
    "model.add(BatchNormalization())\n",
    "model.add(Dense(1))\n",
    "\n",
    "adam = optimizers.adam(lr=LEARNING_RATE)\n",
    "model.compile(loss='mse', optimizer=adam, metrics=['mae'])"
   ]
  },
  {
   "cell_type": "code",
   "execution_count": 37,
   "metadata": {},
   "outputs": [
    {
     "name": "stdout",
     "output_type": "stream",
     "text": [
      "Train on 46593 samples, validate on 12943 samples\n",
      "Epoch 1/20\n",
      "46593/46593 [==============================] - 11s 232us/step - loss: 416.5887 - mean_absolute_error: 16.9687 - val_loss: 1935.7549 - val_mean_absolute_error: 19.6859\n",
      "Epoch 2/20\n",
      "46593/46593 [==============================] - 5s 101us/step - loss: 324.2241 - mean_absolute_error: 16.4217 - val_loss: 2084.3899 - val_mean_absolute_error: 19.5702\n",
      "Epoch 3/20\n",
      "46593/46593 [==============================] - 5s 111us/step - loss: 343.0992 - mean_absolute_error: 17.5719 - val_loss: 1635.8027 - val_mean_absolute_error: 18.7703\n",
      "Epoch 4/20\n",
      "46593/46593 [==============================] - 5s 102us/step - loss: 296.8740 - mean_absolute_error: 14.0620 - val_loss: 584.7870 - val_mean_absolute_error: 13.5591\n",
      "Epoch 5/20\n",
      "46593/46593 [==============================] - 3s 71us/step - loss: 316.7805 - mean_absolute_error: 15.2721 - val_loss: 483.3079 - val_mean_absolute_error: 18.7214\n",
      "Epoch 6/20\n",
      "46593/46593 [==============================] - 3s 62us/step - loss: 340.7048 - mean_absolute_error: 17.3726 - val_loss: 552.5088 - val_mean_absolute_error: 19.4305\n",
      "Epoch 7/20\n",
      "46593/46593 [==============================] - 4s 77us/step - loss: 300.5023 - mean_absolute_error: 14.7627 - val_loss: 678.3265 - val_mean_absolute_error: 16.8540\n",
      "Epoch 8/20\n",
      "46593/46593 [==============================] - 4s 94us/step - loss: 197.1181 - mean_absolute_error: 8.1407 - val_loss: 326.0279 - val_mean_absolute_error: 10.2343\n",
      "Epoch 9/20\n",
      "46593/46593 [==============================] - 4s 87us/step - loss: 224.6387 - mean_absolute_error: 7.7600 - val_loss: 167.2971 - val_mean_absolute_error: 7.3600\n",
      "Epoch 10/20\n",
      "46593/46593 [==============================] - 3s 63us/step - loss: 117.7310 - mean_absolute_error: 5.0016 - val_loss: 590.0113 - val_mean_absolute_error: 15.6451\n",
      "Epoch 11/20\n",
      "46593/46593 [==============================] - 4s 94us/step - loss: 136.4470 - mean_absolute_error: 5.1570 - val_loss: 133.8696 - val_mean_absolute_error: 7.1760\n",
      "Epoch 12/20\n",
      "46593/46593 [==============================] - 4s 77us/step - loss: 144.7053 - mean_absolute_error: 5.5061 - val_loss: 273.4185 - val_mean_absolute_error: 13.4011\n",
      "Epoch 13/20\n",
      "46593/46593 [==============================] - 3s 65us/step - loss: 155.3075 - mean_absolute_error: 5.3338 - val_loss: 149.4911 - val_mean_absolute_error: 6.4391\n",
      "Epoch 14/20\n",
      "46593/46593 [==============================] - 3s 66us/step - loss: 118.1920 - mean_absolute_error: 4.7138 - val_loss: 129.8959 - val_mean_absolute_error: 4.6848\n",
      "Epoch 15/20\n",
      "46593/46593 [==============================] - 3s 66us/step - loss: 134.0657 - mean_absolute_error: 5.1642 - val_loss: 110.8300 - val_mean_absolute_error: 4.3067\n",
      "Epoch 16/20\n",
      "46593/46593 [==============================] - 3s 66us/step - loss: 103.1429 - mean_absolute_error: 4.6565 - val_loss: 176.9921 - val_mean_absolute_error: 8.1888\n",
      "Epoch 17/20\n",
      "46593/46593 [==============================] - 4s 91us/step - loss: 143.8471 - mean_absolute_error: 5.9364 - val_loss: 517.9077 - val_mean_absolute_error: 19.2089\n",
      "Epoch 18/20\n",
      "46593/46593 [==============================] - 3s 68us/step - loss: 141.5774 - mean_absolute_error: 6.2289 - val_loss: 274.7594 - val_mean_absolute_error: 7.8263\n",
      "Epoch 19/20\n",
      "46593/46593 [==============================] - 3s 72us/step - loss: 100.5776 - mean_absolute_error: 4.7715 - val_loss: 263.8167 - val_mean_absolute_error: 11.6046\n",
      "Epoch 20/20\n",
      "46593/46593 [==============================] - 3s 65us/step - loss: 279.3747 - mean_absolute_error: 13.6662 - val_loss: 489.8120 - val_mean_absolute_error: 18.1552\n"
     ]
    }
   ],
   "source": [
    "history = model.fit(x=tornado_train_df, y=tornado_train_labels, batch_size=BATCH_SIZE, epochs=EPOCHS, \n",
    "                    verbose=1, validation_data=(tornado_validation_df, tornado_validation_labels), \n",
    "                    shuffle=True)"
   ]
  },
  {
   "cell_type": "code",
   "execution_count": 38,
   "metadata": {},
   "outputs": [
    {
     "data": {
      "image/png": "[encoded data removed]",
      "text/plain": [
       "<Figure size 1440x720 with 1 Axes>"
      ]
     },
     "metadata": {
      "needs_background": "light"
     },
     "output_type": "display_data"
    }
   ],
   "source": [
    "plt.figure(figsize=(20,10))\n",
    "plt.plot(history.history['loss'])\n",
    "plt.plot(history.history['val_loss'])\n",
    "plt.title('model loss')\n",
    "plt.ylabel('loss')\n",
    "plt.xlabel('epoch')\n",
    "plt.legend(['train', 'test'], loc='upper right')\n",
    "plt.show()"
   ]
  },
  {
   "cell_type": "code",
   "execution_count": null,
   "metadata": {},
   "outputs": [],
   "source": []
  }
 ],
 "metadata": {
  "kernelspec": {
   "display_name": "Python 3",
   "language": "python",
   "name": "python3"
  },
  "language_info": {
   "codemirror_mode": {
    "name": "ipython",
    "version": 3
   },
   "file_extension": ".py",
   "mimetype": "text/x-python",
   "name": "python",
   "nbconvert_exporter": "python",
   "pygments_lexer": "ipython3",
   "version": "3.6.5"
  }
 },
 "nbformat": 4,
 "nbformat_minor": 2
}
